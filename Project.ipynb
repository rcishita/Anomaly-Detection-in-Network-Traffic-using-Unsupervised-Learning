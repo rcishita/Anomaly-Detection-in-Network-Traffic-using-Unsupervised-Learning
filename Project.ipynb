{
 "cells": [
  {
   "cell_type": "code",
   "execution_count": 13,
   "id": "300d9718-feba-4919-95c9-ac5c13a50fa7",
   "metadata": {},
   "outputs": [
    {
     "name": "stdout",
     "output_type": "stream",
     "text": [
      "   0    1     2   3    4     5   6   7   8   9   ...  32   33   34    35   36  \\\n",
      "0   0  tcp  http  SF  181  5450   0   0   0   0  ...   9  1.0  0.0  0.11  0.0   \n",
      "1   0  tcp  http  SF  239   486   0   0   0   0  ...  19  1.0  0.0  0.05  0.0   \n",
      "2   0  tcp  http  SF  235  1337   0   0   0   0  ...  29  1.0  0.0  0.03  0.0   \n",
      "3   0  tcp  http  SF  219  1337   0   0   0   0  ...  39  1.0  0.0  0.03  0.0   \n",
      "4   0  tcp  http  SF  217  2032   0   0   0   0  ...  49  1.0  0.0  0.02  0.0   \n",
      "\n",
      "    37   38   39   40       41  \n",
      "0  0.0  0.0  0.0  0.0  normal.  \n",
      "1  0.0  0.0  0.0  0.0  normal.  \n",
      "2  0.0  0.0  0.0  0.0  normal.  \n",
      "3  0.0  0.0  0.0  0.0  normal.  \n",
      "4  0.0  0.0  0.0  0.0  normal.  \n",
      "\n",
      "[5 rows x 42 columns]\n"
     ]
    }
   ],
   "source": [
    "import pandas as pd\n",
    "\n",
    "df = pd.read_csv(r\"C:\\Users\\rcish\\Downloads\\archive (2)\\kddcup.data_10_percent_corrected.csv\", header=None)\n",
    "print(df.head())"
   ]
  },
  {
   "cell_type": "code",
   "execution_count": 15,
   "id": "e1430084-9dad-48b3-bbde-3383b707eea1",
   "metadata": {},
   "outputs": [
    {
     "name": "stdout",
     "output_type": "stream",
     "text": [
      "C:\\Users\\rcish\n"
     ]
    }
   ],
   "source": [
    "import os\n",
    "print(os.getcwd())"
   ]
  },
  {
   "cell_type": "code",
   "execution_count": 30,
   "id": "e9e72504-c954-41fc-b477-dbe18093eba7",
   "metadata": {},
   "outputs": [],
   "source": [
    "import pandas as pd\n",
    "import numpy as np\n",
    "from sklearn.preprocessing import LabelEncoder, MinMaxScaler\n",
    "from sklearn.model_selection import train_test_split\n",
    "import matplotlib.pyplot as plt\n",
    "import seaborn as sns\n",
    "\n",
    "#Load dataset using FULL PATH — update if needed\n",
    "df = pd.read_csv(r\"C:\\Users\\rcish\\Downloads\\archive (2)\\kddcup.data_10_percent_corrected.csv\", header=None)\n",
    "\n",
    "#Add column names (from kddcup.names)\n",
    "col_names = [\n",
    "    \"duration\", \"protocol_type\", \"service\", \"flag\", \"src_bytes\", \"dst_bytes\",\n",
    "    \"land\", \"wrong_fragment\", \"urgent\", \"hot\", \"num_failed_logins\",\n",
    "    \"logged_in\", \"num_compromised\", \"root_shell\", \"su_attempted\", \"num_root\",\n",
    "    \"num_file_creations\", \"num_shells\", \"num_access_files\", \"num_outbound_cmds\",\n",
    "    \"is_host_login\", \"is_guest_login\", \"count\", \"srv_count\", \"serror_rate\",\n",
    "    \"srv_serror_rate\", \"rerror_rate\", \"srv_rerror_rate\", \"same_srv_rate\",\n",
    "    \"diff_srv_rate\", \"srv_diff_host_rate\", \"dst_host_count\", \"dst_host_srv_count\",\n",
    "    \"dst_host_same_srv_rate\", \"dst_host_diff_srv_rate\",\n",
    "    \"dst_host_same_src_port_rate\", \"dst_host_srv_diff_host_rate\",\n",
    "    \"dst_host_serror_rate\", \"dst_host_srv_serror_rate\", \"dst_host_rerror_rate\",\n",
    "    \"dst_host_srv_rerror_rate\", \"label\"\n",
    "]\n",
    "df.columns = col_names\n",
    "\n",
    "#Convert label to binary (0 = normal, 1 = anomaly)\n",
    "df['label'] = df['label'].apply(lambda x: 0 if x == 'normal.' else 1)\n",
    "\n",
    "#Encode categorical features using one-hot encoding\n",
    "df = pd.get_dummies(df, columns=[\"protocol_type\", \"service\", \"flag\"])\n",
    "\n",
    "#Drop constant column\n",
    "df.drop(\"num_outbound_cmds\", axis=1, inplace=True)\n",
    "\n",
    "#Split features and target\n",
    "X = df.drop(\"label\", axis=1)\n",
    "y = df[\"label\"]\n",
    "\n",
    "#Scale features\n",
    "scaler = MinMaxScaler()\n",
    "X_scaled = scaler.fit_transform(X)"
   ]
  },
  {
   "cell_type": "code",
   "execution_count": null,
   "id": "be553c4a-d5a0-4a5f-893a-00291a60f850",
   "metadata": {},
   "outputs": [],
   "source": [
    "from sklearn.ensemble import IsolationForest\n",
    "from sklearn.metrics import classification_report, confusion_matrix, roc_auc_score\n",
    "\n",
    "#Train Isolation Forest\n",
    "iso_model = IsolationForest(n_estimators=100, contamination=0.2, random_state=42)\n",
    "iso_model.fit(X_scaled)\n",
    "\n",
    "#Predict anomalies\n",
    "y_pred_iso = iso_model.predict(X_scaled)\n",
    "y_pred_iso = np.where(y_pred_iso == -1, 1, 0)\n",
    "\n",
    "#Evaluate\n",
    "print(\"Isolation Forest Evaluation\")\n",
    "print(confusion_matrix(y, y_pred_iso))\n",
    "print(classification_report(y, y_pred_iso))\n",
    "print(\"ROC AUC:\", roc_auc_score(y, y_pred_iso))"
   ]
  },
  {
   "cell_type": "code",
   "execution_count": null,
   "id": "002069ef-f5b0-41a4-98fd-82189880ae17",
   "metadata": {},
   "outputs": [],
   "source": [
    "from keras.models import Model\n",
    "from keras.layers import Input, Dense\n",
    "from keras import regularizers\n",
    "\n",
    "#Filter only normal data for training\n",
    "X_normal = X_scaled[y == 0]\n",
    "\n",
    "#Build autoencoder\n",
    "input_dim = X_normal.shape[1]\n",
    "input_layer = Input(shape=(input_dim,))\n",
    "encoded = Dense(32, activation='relu', activity_regularizer=regularizers.l1(1e-5))(input_layer)\n",
    "encoded = Dense(16, activation='relu')(encoded)\n",
    "encoded = Dense(8, activation='relu')(encoded)\n",
    "decoded = Dense(16, activation='relu')(encoded)\n",
    "decoded = Dense(32, activation='relu')(decoded)\n",
    "output_layer = Dense(input_dim, activation='sigmoid')(decoded)\n",
    "\n",
    "autoencoder = Model(inputs=input_layer, outputs=output_layer)\n",
    "autoencoder.compile(optimizer='adam', loss='mse')\n",
    "\n",
    "#Train autoencoder\n",
    "autoencoder.fit(X_normal, X_normal,\n",
    "                epochs=20,\n",
    "                batch_size=256,\n",
    "                shuffle=True,\n",
    "                validation_split=0.1,\n",
    "                verbose=1)"
   ]
  },
  {
   "cell_type": "code",
   "execution_count": null,
   "id": "48868b67-d2eb-490b-9f4f-b7f2b414afc4",
   "metadata": {},
   "outputs": [],
   "source": [
    "#Reconstruct and calculate MSE\n",
    "reconstructions = autoencoder.predict(X_scaled)\n",
    "mse = np.mean(np.power(X_scaled - reconstructions, 2), axis=1)\n",
    "\n",
    "#Set threshold using 95th percentile of normal MSE\n",
    "threshold = np.percentile(mse[y == 0], 95)\n",
    "print(\"Reconstruction error threshold:\", threshold)\n",
    "\n",
    "#Predict anomalies\n",
    "y_pred_ae = [1 if e > threshold else 0 for e in mse]\n",
    "\n",
    "#Evaluate\n",
    "print(\"📊 Autoencoder Evaluation\")\n",
    "print(confusion_matrix(y, y_pred_ae))\n",
    "print(classification_report(y, y_pred_ae))\n",
    "print(\"ROC AUC:\", roc_auc_score(y, y_pred_ae))"
   ]
  },
  {
   "cell_type": "code",
   "execution_count": null,
   "id": "aadacf47-1c0e-4d2c-86dd-5db2f8cc75c4",
   "metadata": {},
   "outputs": [],
   "source": [
    "# Histogram of reconstruction errors\n",
    "plt.figure(figsize=(10,5))\n",
    "sns.histplot(mse[y == 0], bins=50, color='green', label='Normal')\n",
    "sns.histplot(mse[y == 1], bins=50, color='red', label='Anomaly')\n",
    "plt.axvline(threshold, color='blue', linestyle='--', label='Threshold')\n",
    "plt.legend()\n",
    "plt.title(\"Reconstruction Error Histogram\")\n",
    "plt.xlabel(\"MSE\")\n",
    "plt.ylabel(\"Frequency\")\n",
    "plt.show()"
   ]
  },
  {
   "cell_type": "code",
   "execution_count": null,
   "id": "9cc38076-5486-4134-a114-2f70ec044612",
   "metadata": {},
   "outputs": [],
   "source": []
  }
 ],
 "metadata": {
  "kernelspec": {
   "display_name": "Python [conda env:base] *",
   "language": "python",
   "name": "conda-base-py"
  },
  "language_info": {
   "codemirror_mode": {
    "name": "ipython",
    "version": 3
   },
   "file_extension": ".py",
   "mimetype": "text/x-python",
   "name": "python",
   "nbconvert_exporter": "python",
   "pygments_lexer": "ipython3",
   "version": "3.12.7"
  }
 },
 "nbformat": 4,
 "nbformat_minor": 5
}
